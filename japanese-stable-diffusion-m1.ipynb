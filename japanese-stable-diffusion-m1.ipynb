{
 "cells": [
  {
   "cell_type": "code",
   "execution_count": null,
   "metadata": {},
   "outputs": [],
   "source": [
    "import torch\n",
    "torch.device('mps')"
   ]
  },
  {
   "cell_type": "code",
   "execution_count": null,
   "metadata": {},
   "outputs": [],
   "source": [
    "%pip install --upgrade python-dotenv\n",
    "\n",
    "from dotenv import load_dotenv\n",
    "\n",
    "load_dotenv()"
   ]
  },
  {
   "cell_type": "code",
   "execution_count": null,
   "metadata": {},
   "outputs": [],
   "source": [
    "# https://github.com/rinnakk/japanese-stable-diffusion\n",
    "%pip install git+https://github.com/rinnakk/japanese-stable-diffusion"
   ]
  },
  {
   "cell_type": "code",
   "execution_count": null,
   "metadata": {},
   "outputs": [],
   "source": [
    "import os\n",
    "\n",
    "cwd = os.getcwd()\n",
    "output_dir = f\"{cwd}/output\"\n",
    "if not os.path.exists(output_dir):\n",
    "  os.mkdir(output_dir)"
   ]
  },
  {
   "cell_type": "code",
   "execution_count": null,
   "metadata": {},
   "outputs": [],
   "source": [
    "import torch\n",
    "from japanese_stable_diffusion import JapaneseStableDiffusionPipeline\n",
    "from IPython.display import display_png\n",
    "import os\n",
    "import time\n",
    "\n",
    "torch.cuda.empty_cache()\n",
    "\n",
    "USER_ACCESS_TOKEN = os.environ[\"USER_ACCESS_TOKEN\"]\n",
    "\n",
    "pipe = JapaneseStableDiffusionPipeline.from_pretrained(\n",
    "  \"rinna/japanese-stable-diffusion\",\n",
    "  use_auth_token=USER_ACCESS_TOKEN\n",
    ").to(\"mps\")\n",
    "\n",
    "prompt = \"ノートパソコンのイラスト\"\n",
    "\n",
    "images = pipe([prompt] * 1).images\n",
    "for image in images:\n",
    "  display_png(image)\n",
    "  filename = f\"output/image_{int(time.time())}.png\"\n",
    "  print(filename)\n",
    "  image.save(filename)"
   ]
  }
 ],
 "metadata": {
  "kernelspec": {
   "display_name": "Python 3.10.7 ('.venv': venv)",
   "language": "python",
   "name": "python3"
  },
  "language_info": {
   "codemirror_mode": {
    "name": "ipython",
    "version": 3
   },
   "file_extension": ".py",
   "mimetype": "text/x-python",
   "name": "python",
   "nbconvert_exporter": "python",
   "pygments_lexer": "ipython3",
   "version": "3.10.7"
  },
  "orig_nbformat": 4,
  "vscode": {
   "interpreter": {
    "hash": "12e840d2333d40471c69962b96a1909d7a00027a649daf88b616057a213cb7d1"
   }
  }
 },
 "nbformat": 4,
 "nbformat_minor": 2
}
